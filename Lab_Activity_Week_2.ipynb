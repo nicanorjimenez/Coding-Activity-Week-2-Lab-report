{
  "nbformat": 4,
  "nbformat_minor": 0,
  "metadata": {
    "colab": {
      "name": "LAB Activity Week 2.ipynb",
      "provenance": [],
      "collapsed_sections": [],
      "toc_visible": true,
      "authorship_tag": "ABX9TyPdHSk9przbB0JPEBk1RfR6",
      "include_colab_link": true
    },
    "kernelspec": {
      "name": "python3",
      "display_name": "Python 3"
    }
  },
  "cells": [
    {
      "cell_type": "markdown",
      "metadata": {
        "id": "view-in-github",
        "colab_type": "text"
      },
      "source": [
        "<a href=\"https://colab.research.google.com/github/nicanorjimenez/Coding-Activity-Week-2-Lab-report/blob/main/Lab_Activity_Week_2.ipynb\" target=\"_parent\"><img src=\"https://colab.research.google.com/assets/colab-badge.svg\" alt=\"Open In Colab\"/></a>"
      ]
    },
    {
      "cell_type": "markdown",
      "metadata": {
        "id": "H5Vo-lAQ9wLr"
      },
      "source": [
        "#Declaring Variables"
      ]
    },
    {
      "cell_type": "code",
      "metadata": {
        "id": "5JcsVdug-rwY"
      },
      "source": [
        "import numpy as np\r\n",
        "import matplotlib.pyplot as mplib\r\n",
        "\r\n",
        "lit1 = ([4, 6,])\r\n",
        "lit2 = ([2, 5,])\r\n",
        "lit3 = ([6, 7,])\r\n",
        "lit4 = ([5, 1,])\r\n",
        "lit5 = ([6, 6,])\r\n",
        "vec1 = np.array(lit1)\r\n",
        "vec2 = np.array(lit2)\r\n",
        "vec3 = np.array(lit3)\r\n",
        "vec4 = np.array(lit4)\r\n",
        "vec5 = np.array(lit5)\r\n",
        "\r\n"
      ],
      "execution_count": 3,
      "outputs": []
    },
    {
      "cell_type": "markdown",
      "metadata": {
        "id": "OxVRgvk0STWr"
      },
      "source": [
        "#Printing Vertically\r\n"
      ]
    },
    {
      "cell_type": "code",
      "metadata": {
        "colab": {
          "base_uri": "https://localhost:8080/"
        },
        "id": "jkF4NwWhZlOy",
        "outputId": "95b6d935-490a-41eb-e5ba-62a5b35b352f"
      },
      "source": [
        "#printing arrays\r\n",
        "print(vec1)\r\n",
        "print(vec2)\r\n",
        "print(vec3)\r\n",
        "print(vec4)\r\n",
        "print(vec5)"
      ],
      "execution_count": null,
      "outputs": [
        {
          "output_type": "stream",
          "text": [
            "[4 6 4]\n",
            "[2 5 2]\n",
            "[6 7 8]\n",
            "[5 1 0]\n",
            "[6 6 2]\n"
          ],
          "name": "stdout"
        }
      ]
    },
    {
      "cell_type": "markdown",
      "metadata": {
        "id": "DWf0cDlCZdGR"
      },
      "source": [
        "#Printing Horizontally"
      ]
    },
    {
      "cell_type": "code",
      "metadata": {
        "colab": {
          "base_uri": "https://localhost:8080/"
        },
        "id": "YFlujuswSan4",
        "outputId": "bc1ac822-588d-4bbd-de98-212d2b439f9f"
      },
      "source": [
        "#using for loop to print vertically\r\n",
        "int_list = [[2, 5, 6], [3, 5, 1], [9, 2, 8]]\r\n",
        "for i in range(len(int_list)): \r\n",
        "    for v in int_list: \r\n",
        "      vec_vert=np.array(np.array)\r\n",
        "      print(v[i], end =' ') \r\n",
        "       \r\n",
        "\r\n",
        "    print() "
      ],
      "execution_count": null,
      "outputs": [
        {
          "output_type": "stream",
          "text": [
            "2 3 9 \n",
            "5 5 2 \n",
            "6 1 8 \n"
          ],
          "name": "stdout"
        }
      ]
    },
    {
      "cell_type": "markdown",
      "metadata": {
        "id": "UywNWS3OBWHg"
      },
      "source": [
        "#addition and subtraction\r\n",
        "\r\n",
        "\r\n",
        "\r\n",
        "![2.png](data:image/png;base64,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)"
      ]
    },
    {
      "cell_type": "code",
      "metadata": {
        "id": "A1VikX6ABoG9",
        "colab": {
          "base_uri": "https://localhost:8080/"
        },
        "outputId": "fac50ca4-ea35-45ec-9cba-1d6175fa08a5"
      },
      "source": [
        "#Addition\r\n",
        "add1 = np.add(vec1, vec2)\r\n",
        "add2 = np.add(add1, vec3)\r\n",
        "add3 = np.add(add2, vec4)\r\n",
        "add4 = np.add(add3, vec5)\r\n",
        "#Subtraction\r\n",
        "sub1 = np.subtract(vec1, vec2)\r\n",
        "sub2 = np.subtract(sub1, vec3)\r\n",
        "sub3 = np.subtract(sub2, vec4)\r\n",
        "sub4 = np.subtract(sub3, vec5)\r\n",
        "\r\n",
        "print (f\"The sum of the arrays is {add4}\")\r\n",
        "print (f\"The Diffrence of the arrays is {sub4}\")"
      ],
      "execution_count": 6,
      "outputs": [
        {
          "output_type": "stream",
          "text": [
            "The sum of the arrays is [23 25]\n",
            "The Diffrence of the arrays is [-15 -13]\n"
          ],
          "name": "stdout"
        }
      ]
    },
    {
      "cell_type": "markdown",
      "metadata": {
        "id": "K0MdWaZRD_tC"
      },
      "source": [
        "#Squaring \r\n",
        "\r\n",
        "![squaring formula.png](data:image/png;base64,iVBORw0KGgoAAAANSUhEUgAAAXUAAAA0CAIAAAD67D/iAAAAAXNSR0IArs4c6QAAAARnQU1BAACxjwv8YQUAAAAJcEhZcwAADsMAAA7DAcdvqGQAAARmSURBVHhe7ZgNjtwwCIV7mEpV73/ArSWo5cE2wQQSJ/M+odXEfvwYb9jV/PoBAIAcMF8AAFlgvgAAssB8AQBk8fL58vvPXzJ+BgBcyJvnSztWwkdMnVyrxv5ggmiX3dj/jYiT2o397+Pl86W2OKPXq1dI+oxKXgYa2/PQnnzL9y8ZjfZd4e1Xvj9obM9De/Kw+WLsl5DldblEJuNnG3n1vIadG+soLATKu5r6llIr758v2f0t8VdTZJf0DvZsbE1xyyXu2ROFl8+X/kMGJXhq/K9lw8beXs+zftnePF/oJqrRVgYXpPhO9mzsvfXs2ZMZX/H9ywU869YfxIaNvb2YDXsy42O+1Lqr8YYZ4V6MN4JoA7ZZyHjjU3YZooYlqq8SxKKpkOZQZic8oJ0zeauvEsSiqVQlPd6FpdQZ1VcJYtFYkP+/tOF8cS0RSKMY6zrEVitut5QIPRREMdYZWNUT5NL69kEsmkq7pcjs+AIWpW6sM7CqJ8il9e2DWDQVi0aBsijGOhsOlwK5tL59EIvGiGe+tJoeSwQ3IuAsV3heI1TPanbSV6/WXSwONQXlsXwWj/zpEyETiAhCqThGQUlXE5G+erXuYnGoKQxdCrPPBfGYR0lExs82SF+9WnexqGuMaPNlhi6wRHAjIs9y5RVwCJXkKMDiYtT0xntzFE0bpxrvXYg7tcVlVeMoI4NSBhk/m7G4hJzRM190LBFIoxjrOsTWTKxE6KEgirHOjMOlILyGqYeRLY6F2fohuqO+pRvrzDhcCsJrmHoYuXfkT/8/l5+Kpof0irFuhRCvYXaL5pB75osbEXmWK6+AQ3ypZ17tunJSsaU8DoMcMgtIH3wxVwmpvNKuDzW0OJQJvVgXu6n4cs282nWLxsLHfCnO1XhpkfMRdNqwSq5+5RrceYeOYlEJ3m+VlWq8pEY4ZBiQOBPWiDvF0FEsKsF75aGvEi0Wd6Kh4+G5Co6M8v+XzTGe0NGI84QnLQEtMe15jQGXCA/Yk1GzJaZR08osLiGEJxIHGWLRCDBfYsjIGH7YG4t0s3ljhSa7G8RdPXHkxXwJYDVdVHkU5+LDVi7Ivho8qhjH0RwuPlZTXFCSAubLWRy5osorca48qSA7uyN4VD2OozlcHDhSXFCVwsPmy2487r6fAhrb88SeYL74Wb28oifjZzABje15aE8wX5zU+1s19gcTRLvsxv5vRJzUbux/H5gvAIAsMF8AAFlgvgAAssB8AQBkgfkSyewbtR2+aXs0aKzOtn3AfAEAZIH5EkP5A4K/sRmgsTpKf3YA8yWS/qZpBW/CSdBYnW37gPkShnLHeA3OgMbq7NwEzJcwyjXXm26vHO/ASdBYnbY/u4H5Eob41a+P2979U0BjdXbuA+ZLFvVNwGsQCxr7IDBfUqgvAN6BWNDYZ4H5AgDIAvMFAJAF5gsAIAvMFwBAFpgvAIAsMF8AAFlgvgAAssB8AQBkgfkCAMgC8wUAkAXmCwAgC8wXAEAOPz//AHT9xjNOk3crAAAAAElFTkSuQmCC)\r\n",
        "#Square root (for lengths)\r\n",
        "![1.png](data:image/png;base64,iVBORw0KGgoAAAANSUhEUgAAALAAAAAcCAIAAABOC6KcAAAAAXNSR0IArs4c6QAAAARnQU1BAACxjwv8YQUAAAAJcEhZcwAADsMAAA7DAcdvqGQAAAJgSURBVGhD7ZRhiiUxCIT3MAvL3P+AbwSzUimNbXc6AwN+5IcpS2M/5P35NA3QC9FM9EI0E70QzcSphfj770vOuERcGjY53R+5fAuz9ak25y+Wk+3gQozoP6KQWJz4GUebe/LnMFsfbPMTiuVkO7IQfhRTKFUc+i6H2uasHn38yZtfUSwnWy/Ea6weffzJm19RLCfb+wvh50Alz77C6w3rhE+TWB9v80OK5WQLFkIcdoa0EAWvk0FAJc++wuUTyYuXw+StfPmlklx9LZJnheJDpPNCYFpivVKNXclMgSGKnSEBoShgVXiGz0EpvaIY1qItNAiUlYCcvjBXNPaK4msVrFp5BN/KFAkw1kDJFsIgcdVLWZmFin+f8EUfeCSlZ9xnwg5k9rWJkgSKrzUkpWfcIyzrAyEUhWkhJEdpwYuoaIwGjIUkpYTiDr7h5QyKpPSMewRlb12VxFMpVySlZ9wj8m52Jf35P0QoYqDglVJKKAqi52f4HD6FisYrzyprYGrVxAj7JB6NTQnLBbStPAKl8LqKhWAhvJtqTPRODJSVbqz0x/iGOIPGq0dXuoGtNEBIvOWRQGNUNAjJswIZVm3pyguhiEnPuINiogYkChgrZCCS1DPChjaDBY9JOqBe8SjW0ALFO2/hy6m/Qkq8EJvUv6TuvMWhtjn06GqGH/txiuVk64V4DXw0GeDHfpxiOdmOLIRQmWbzg3OONvfQc8nr9cE2P6FYTraDC5EPdGnY5HR/xL+VPF2fanP+YjnZTi1E80vphWgmeiGaiV6IZqIXopnohWgmeiGaiV6IBvh8vgH0UP3GhD+BagAAAABJRU5ErkJggg==)\r\n",
        "\r\n",
        "![square rooting table.jpg](data:image/jpeg;base64,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)"
      ]
    },
    {
      "cell_type": "code",
      "metadata": {
        "id": "dJi43b8VEEnY"
      },
      "source": [
        "#Squaring\r\n",
        "sq1 = np.square(vec1, vec2)\r\n",
        "sq2 = np.square(sq1, vec3)\r\n",
        "sq3 = np.square(sq2, vec4)\r\n",
        "sq4 = np.square(sq3, vec5)\r\n",
        "#Square root\r\n",
        "sr1 = np.sqrt(add4)\r\n",
        "\r\n"
      ],
      "execution_count": 10,
      "outputs": []
    },
    {
      "cell_type": "markdown",
      "metadata": {
        "id": "kBSnpHhuG3ex"
      },
      "source": [
        "#Summation\r\n",
        "![image.png](data:image/png;base64,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)"
      ]
    },
    {
      "cell_type": "code",
      "metadata": {
        "id": "89maY2k0G8Q1",
        "colab": {
          "base_uri": "https://localhost:8080/"
        },
        "outputId": "b64284af-ca18-4f39-de65-a696e3433cd1"
      },
      "source": [
        "#Summation\r\n",
        "su1 = np.sum(add4)\r\n",
        "su2 = np.sum(sub4)\r\n",
        "su3 = np.sum(sq4)\r\n",
        "\r\n",
        "print(sq4)"
      ],
      "execution_count": 22,
      "outputs": [
        {
          "output_type": "stream",
          "text": [
            "48\n",
            "[-15 -13]\n",
            "[   4294967296 2821109907456]\n"
          ],
          "name": "stdout"
        }
      ]
    },
    {
      "cell_type": "markdown",
      "metadata": {
        "id": "toQqtR2hKT0u"
      },
      "source": [
        "#Visualizing"
      ]
    },
    {
      "cell_type": "code",
      "metadata": {
        "colab": {
          "base_uri": "https://localhost:8080/",
          "height": 281
        },
        "id": "b93vdmxSKccN",
        "outputId": "480eb444-49e4-4c7f-c1a7-1c45ac6d3c6e"
      },
      "source": [
        "\r\n",
        "A = add4\r\n",
        "B = sub4\r\n",
        "C = sq1\r\n",
        "D = sr1\r\n",
        "\r\n",
        "mplib.scatter(A[0],A[1], label='A', c='black')\r\n",
        "mplib.scatter(B[0],B[1], label='B', c='blue')\r\n",
        "mplib.scatter(C[0],C[1], label='C', c='yellow')\r\n",
        "mplib.scatter(D[0],D[1], label='D', c='red')\r\n",
        "\r\n",
        "mplib.title(\"Visualizing the Vectors\")\r\n",
        "mplib.xlim(-100, 100)\r\n",
        "mplib.ylim(-100, 100)\r\n",
        "mplib.axhline(y=0, color='black')\r\n",
        "mplib.axvline(x=0, color='black')\r\n",
        "mplib.grid()\r\n",
        "mplib.legend()\r\n",
        "mplib.show()"
      ],
      "execution_count": 33,
      "outputs": [
        {
          "output_type": "display_data",
          "data": {
            "image/png": "[encoded data removed]",
            "text/plain": [
              "<Figure size 432x288 with 1 Axes>"
            ]
          },
          "metadata": {
            "tags": [],
            "needs_background": "light"
          }
        }
      ]
    },
    {
      "cell_type": "markdown",
      "metadata": {
        "id": "nOulYkbLhVl6"
      },
      "source": [
        "#Result of the Operations"
      ]
    },
    {
      "cell_type": "code",
      "metadata": {
        "id": "CP9pCQ5hhjtV",
        "colab": {
          "base_uri": "https://localhost:8080/"
        },
        "outputId": "b3f43c51-bed2-4910-ecd2-945e463ae183"
      },
      "source": [
        "print(f\"The sum of the arrays is {add1}\")\r\n",
        "print(\"I used the numpy add function which is used when we want to compute the\") \r\n",
        "print(\"addition of two array. It add arguments element-wise. \")\r\n",
        "print(\"------------------------------------------------\")\r\n",
        "print(f\"The Diffrence of the arrays is {sub4}\")\r\n",
        "print(\"numpy.subtract() function is used when we want to compute the difference\") \r\n",
        "print(\"of two array.It returns the difference of arr1 and arr2, element-wise.\")\r\n",
        "print(\"------------------------------------------------\")\r\n",
        "print(f\"Squaring the vectors result is {sq4}\")\r\n",
        "print(\"function returns a new array with the element value as the square of the\") \r\n",
        "print(\"source array elements. The source array remains unchanged\")\r\n",
        "print(\"------------------------------------------------\")\r\n",
        "print(f\"The Square root of a Vector is {sr1}\")\r\n",
        "print(\"The output of the function is simply an array of those calculated square\") \r\n",
        "print(\"roots, arranged in exactly the same shape as the input array.\")\r\n",
        "print(\"-----------------------------------------------\")\r\n",
        "print(f\"The Summation of the given vector is {su1}\")\r\n",
        "print(\"this sum ups the elements of an array, takes the elements within an \")\r\n",
        "print(\"array, and adds them together\")"
      ],
      "execution_count": 26,
      "outputs": [
        {
          "output_type": "stream",
          "text": [
            "The sum of the arrays is [ 6 11]\n",
            "I used the numpy add function which is used when we want to compute the\n",
            "addition of two array. It add arguments element-wise. \n",
            "------------------------------------------------\n",
            "The Diffrence of the arrays is [-15 -13]\n",
            "numpy.subtract() function is used when we want to compute the difference\n",
            "of two array.It returns the difference of arr1 and arr2, element-wise.\n",
            "------------------------------------------------\n",
            "Squaring the vectors result is [   4294967296 2821109907456]\n",
            "function returns a new array with the element value as the square of the\n",
            "source array elements. The source array remains unchanged\n",
            "------------------------------------------------\n",
            "The Square root of a Vector is [4.79583152 5.        ]\n",
            "The output of the function is simply an array of those calculated square\n",
            "roots, arranged in exactly the same shape as the input array.\n",
            "-----------------------------------------------\n",
            "The Summation of the given vector is 48\n"
          ],
          "name": "stdout"
        }
      ]
    }
  ]
}