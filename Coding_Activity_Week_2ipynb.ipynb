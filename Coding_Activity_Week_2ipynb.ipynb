{
  "nbformat": 4,
  "nbformat_minor": 0,
  "metadata": {
    "colab": {
      "name": "Coding Activity Week 2ipynb",
      "provenance": [],
      "toc_visible": true,
      "authorship_tag": "ABX9TyOzpSF5BHQvHsmwYjidWMvy",
      "include_colab_link": true
    },
    "kernelspec": {
      "name": "python3",
      "display_name": "Python 3"
    }
  },
  "cells": [
    {
      "cell_type": "markdown",
      "metadata": {
        "id": "view-in-github",
        "colab_type": "text"
      },
      "source": [
        "<a href=\"https://colab.research.google.com/github/nicanorjimenez/Coding-Activity-Week-2-Lab-report/blob/main/Coding_Activity_Week_2ipynb.ipynb\" target=\"_parent\"><img src=\"https://colab.research.google.com/assets/colab-badge.svg\" alt=\"Open In Colab\"/></a>"
      ]
    },
    {
      "cell_type": "markdown",
      "metadata": {
        "id": "H5Vo-lAQ9wLr"
      },
      "source": [
        "#Declaring Variables"
      ]
    },
    {
      "cell_type": "code",
      "metadata": {
        "id": "5JcsVdug-rwY"
      },
      "source": [
        "import numpy as np\r\n",
        "\r\n",
        "lit1 = [4, 6, 4]\r\n",
        "lit2 = [2, 5, 2]\r\n",
        "lit3 = [6, 7, 8]\r\n",
        "lit4 = [5, 1, 0]\r\n",
        "lit5 = [6, 6, 2]\r\n",
        "\r\n",
        "vec1 = np.array(lit1)\r\n",
        "vec2 = np.array(lit2)\r\n",
        "vec3 = np.array(lit3)\r\n",
        "vec4 = np.array(lit4)\r\n",
        "vec5 = np.array(lit5)"
      ],
      "execution_count": 41,
      "outputs": []
    },
    {
      "cell_type": "markdown",
      "metadata": {
        "id": "UywNWS3OBWHg"
      },
      "source": [
        "Adding & Subtraction "
      ]
    },
    {
      "cell_type": "code",
      "metadata": {
        "colab": {
          "base_uri": "https://localhost:8080/"
        },
        "id": "A1VikX6ABoG9",
        "outputId": "9b9a0bc0-c270-4e29-e720-abde3e2ceacc"
      },
      "source": [
        "#Addition\r\n",
        "add1 = np.add(vec1, vec2)\r\n",
        "add2 = np.add(add1, vec3)\r\n",
        "add3 = np.add(add2, vec4)\r\n",
        "add4 = np.add(add3, vec5)\r\n",
        "#Subtraction\r\n",
        "sub1 = np.subtract(vec1, vec2)\r\n",
        "sub2 = np.subtract(sub1, vec3)\r\n",
        "sub3 = np.subtract(sub2, vec4)\r\n",
        "sub4 = np.subtract(sub3, vec5)\r\n",
        "\r\n"
      ],
      "execution_count": 8,
      "outputs": [
        {
          "output_type": "stream",
          "text": [
            "Sum of Vectors is [260 241 248]\n",
            "Diffrence of Vectors is [-174 -129 -180]\n"
          ],
          "name": "stdout"
        }
      ]
    },
    {
      "cell_type": "markdown",
      "metadata": {
        "id": "K0MdWaZRD_tC"
      },
      "source": [
        "#Squaring and Square root"
      ]
    },
    {
      "cell_type": "code",
      "metadata": {
        "colab": {
          "base_uri": "https://localhost:8080/"
        },
        "id": "dJi43b8VEEnY",
        "outputId": "a0ad7b93-b560-4200-c12e-67dd7d2ec4c6"
      },
      "source": [
        "#Squaring\r\n",
        "sq1 = np.square(vec1, vec2)\r\n",
        "sq2 = np.square(sq1, vec3)\r\n",
        "sq3 = np.square(sq2, vec4)\r\n",
        "sq4 = np.square(sq3, vec5)\r\n",
        "#Square root\r\n",
        "sr1 = np.sqrt(add4)\r\n",
        "sr2 = np.sqrt(sub4)\r\n",
        "sr3 = np.sqrt(sq4)\r\n"
      ],
      "execution_count": 28,
      "outputs": [
        {
          "output_type": "stream",
          "text": [
            "/usr/local/lib/python3.6/dist-packages/ipykernel_launcher.py:8: RuntimeWarning: invalid value encountered in sqrt\n",
            "  \n"
          ],
          "name": "stderr"
        }
      ]
    },
    {
      "cell_type": "markdown",
      "metadata": {
        "id": "kBSnpHhuG3ex"
      },
      "source": [
        "#Summation"
      ]
    },
    {
      "cell_type": "code",
      "metadata": {
        "colab": {
          "base_uri": "https://localhost:8080/"
        },
        "id": "89maY2k0G8Q1",
        "outputId": "baab7dcc-1420-40ad-f378-130f23eb8b82"
      },
      "source": [
        "#Summation\r\n",
        "su1 = np.sum(add4)\r\n",
        "su2 = np.sum(sub4)\r\n",
        "su3 = np.sum(sq4)\r\n"
      ],
      "execution_count": 31,
      "outputs": [
        {
          "output_type": "execute_result",
          "data": {
            "text/plain": [
              "749"
            ]
          },
          "metadata": {
            "tags": []
          },
          "execution_count": 31
        }
      ]
    },
    {
      "cell_type": "markdown",
      "metadata": {
        "id": "toQqtR2hKT0u"
      },
      "source": [
        "#Visualizing"
      ]
    },
    {
      "cell_type": "code",
      "metadata": {
        "colab": {
          "base_uri": "https://localhost:8080/",
          "height": 289
        },
        "id": "b93vdmxSKccN",
        "outputId": "5629295b-c293-4727-ee41-811766a8e2f0"
      },
      "source": [
        "import matplotlib.pyplot as mplib\r\n",
        "A = add4\r\n",
        "B = sub4\r\n",
        "C = sq4\r\n",
        "mplib.scatter(A[0],A[1], label='A', c='black')\r\n",
        "mplib.scatter(B[0],B[1], label='B', c='yellow')\r\n",
        "mplib.scatter(C[0],C[1], label='C', c='Red')\r\n",
        "\r\n",
        "mplib.grid()\r\n",
        "mplib.legend()\r\n",
        "mplib.show()"
      ],
      "execution_count": 46,
      "outputs": [
        {
          "output_type": "display_data",
          "data": {
            "image/png": "[encoded data removed]",
            "text/plain": [
              "<Figure size 432x288 with 1 Axes>"
            ]
          },
          "metadata": {
            "tags": [],
            "needs_background": "light"
          }
        }
      ]
    }
  ]
}